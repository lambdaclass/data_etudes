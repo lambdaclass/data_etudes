{
 "cells": [
  {
   "cell_type": "markdown",
   "metadata": {},
   "source": [
    "## Transferencia de aprendizaje \n",
    "La idea del concepto de transferencia de aprendizaje o [transfer learning](https://en.wikipedia.org/wiki/Transfer_learning) es utilizar conceptos (o los parámetros de la red) aprendidos en un problema en otro problema.\n",
    "\n",
    "Particularmente en redes convolucionales, se reutilizan los pesos de la parte de extracción características o feature extraction, correspondientes con las capas convolucionales y de pooling, reentrenando normalmente los pesos de la parte de clasificación, es decir, las últimas capas densas.\n",
    "\n",
    "![](img/cnn.jpeg)"
   ]
  },
  {
   "cell_type": "markdown",
   "metadata": {},
   "source": [
    "### Problema a resolver: Clasificación binaria de imágenes de fondo de ojo para detectar retinopatía diabética\n",
    "\n",
    "Se pretende resolver este problema utilizando la técnica de transferencia de aprendizaje, con el fin de realizar una clasificación binaria de las imágenes de fondo de ojo para detectar [retinopatía diabética](https://es.wikipedia.org/wiki/Retinopat%C3%ADa_diab%C3%A9tica).\n",
    "Por lo que tenemos 5 niveles de severidad repartidos en 2 categorías para realizar una clasificación binaria\n",
    "![](img/image1.png)"
   ]
  },
  {
   "cell_type": "markdown",
   "metadata": {},
   "source": [
    "Queremos utilizar redes con parámetros entrenados previamente en otro problema, para esto existen redes preentrenadas en la base de datos [ImageNet](http://www.image-net.org/), las cuales pueden ser cargadas desde [Keras](https://keras.io/api/applications/). Las redes estan preentrenadas para realizar la clasificación de las imágenes de la base de datos ImageNet, las cuales se encuentran clasificadas en 1000 categorías.\n",
    "\n",
    "\n",
    "  \n",
    "![](img/imagenet.jpeg)\n",
    "\n",
    "Utilizaremos 3 de estas redes preentrenadas: Xception, Inception V3 y DenseNet 169, cuyas principales características se muestran a continuación\n",
    "<img src=\"img/networks.png\" width=\"700\">"
   ]
  },
  {
   "cell_type": "markdown",
   "metadata": {},
   "source": [
    "Las imágenes de fondo de ojo fueron obtenidas de la base de datos [Kaggle: Diabetic retinopathy detection](https://www.kaggle.com/c/diabetic-retinopathy-detection)\n",
    "El histograma de las clases se muestra a continuación que la cantidad de imágenes para cada nivel de severidad de la enfermedad se encuentra muy desbalanceada. Sin embargo, solo vamos a usar 5000 imágenes, con categorías balanceadas.\n",
    "<img src=\"img/histogram.png\" width=\"500\">\n"
   ]
  },
  {
   "cell_type": "markdown",
   "metadata": {},
   "source": [
    "Como se puede ver, el problema de detección de retinopatía diabética no parece un problema sencillo, por lo que \n",
    "antes de resolver el problema con todos los niveles de severidad de la enfermedad, resolvemos un problema **más simple**, clasificando solo imágenes de personas sanas y del mayor nivel de severidad de la enfermedad.\n",
    "![](img/image6.png)"
   ]
  },
  {
   "cell_type": "markdown",
   "metadata": {},
   "source": [
    "Antes de usar redes convolucionales, intentamos resolver el problema con métodos más simples, como **Random Forest, SVM, MLP y KNN**. Los resultados de precisión obtenida son:\n",
    "<img src=\"img/metodos.png\" width=\"300\">\n",
    "Se observa que la precisión obtenida es prácticamente la aleatoria, por lo que procedemos a usar redes convolucionales"
   ]
  },
  {
   "cell_type": "markdown",
   "metadata": {},
   "source": [
    "Usamos por lo tanto CNN, todavía intentando resolver el problema simple de **solo 2 niveles**, intentando ver si funcionan las redes convolucionales para este problema.\n",
    "Vemos primero las tasas de aprendizajes y la constante de regularización apropiadas\n",
    "<img src=\"img/lr.png\" width=\"700\">\n"
   ]
  },
  {
   "cell_type": "markdown",
   "metadata": {},
   "source": [
    "Luego vemos si los métodos de regularización son necesarios, usando dropout y regularización L2:\n",
    "<img src=\"img/regularizacion.png\" width=\"700\">\n",
    "Se observa que los métodos de regularización hacen que sea menos errático el aprendizaje y permiten obtener en menor cantidad de épocas mejores valores de precisión en el set de validación"
   ]
  },
  {
   "cell_type": "markdown",
   "metadata": {},
   "source": [
    "Vimos que para aplicar transferencia de aprendizaje hay que reentrenar los pesos de la parte de clasificación de la red (las últimas capas densas), pero además es conveniente entrenar parte de los pesos de las capas convolucionales. Hasta que profundidad se entrena o cuales de estas capas es conveniente entrenar?\n",
    "## Red Inception V3\n",
    "<img src=\"img/arquitectura.png\" width=\"700\">\n",
    "Observamos que las capas convolucionales tienen una estructura en bloques"
   ]
  },
  {
   "cell_type": "markdown",
   "metadata": {},
   "source": [
    "Se hace por lo tanto Fine tuning (o reentrenamiento de los pesos) hasta varias profundidades, donde los puntos rojos y negros corresponden a entrenar hasta bloque enteros de la parte de capas convolucionales\n",
    "<img src=\"img/profundidad.png\" width=\"700\">\n",
    "Por lo que se observa que la mayor precisión se obtiene entrenando hasta bloques enteros, en lugar de entrenar hasta capas intermedias."
   ]
  },
  {
   "cell_type": "markdown",
   "metadata": {},
   "source": [
    "Ahora que tenemos idea del valor de todos los hiperparámetros, podemos intentar resolver el problema completo con todos los niveles de severidad\n",
    "\n",
    "<img src=\"img/image1.png\" width=\"700\">"
   ]
  },
  {
   "cell_type": "markdown",
   "metadata": {},
   "source": [
    "Se obtuvieron las siguiente precisiones con imágenes de tamaño 224x224 para las 3 redes utilizadas\n",
    "<img src=\"img/resultados1.png\" width=\"400\">\n"
   ]
  },
  {
   "cell_type": "markdown",
   "metadata": {},
   "source": [
    "Qué comclusiones podemos sacar de estas soluciones obtenidas?\n",
    "Se puede visualizar las regiones de importancia a la hora de clasificar? \n",
    "\n",
    "El método de [mapas de activación de clases](http://cnnlocalization.csail.mit.edu/) permite obtener las regiones de importancia a la hora de clasificar una imágen, sin embargo, solo funciona para redes de arquitectura particular\n",
    "<img src=\"img/CAM.png\" width=\"700\">"
   ]
  },
  {
   "cell_type": "markdown",
   "metadata": {},
   "source": [
    "El método [Guided Grad CAM](http://gradcam.cloudcv.org/) por otro lada funcion para arquitecturas más custom y además da los pixeles importantes, por lo que se tiene mayor definición\n",
    "<img src=\"img/Guided_cam.png\" width=\"700\">"
   ]
  },
  {
   "cell_type": "markdown",
   "metadata": {},
   "source": [
    "Se aplicaron los métodos **CAM** y **Guided Grad CAM** a las soluciones obtenidas, observando las regiones de importancia en la clasificación\n",
    "<img src=\"img/Xception_224.png\" width=\"1100\">\n"
   ]
  },
  {
   "cell_type": "markdown",
   "metadata": {},
   "source": [
    "Se aplicaron los métodos **CAM** y **Guided Grad CAM** a las soluciones obtenidas, observando las regiones de importancia en la clasificación\n",
    "\n",
    "<img src=\"img/Densenet_224.png\" width=\"1100\">"
   ]
  },
  {
   "cell_type": "markdown",
   "metadata": {},
   "source": [
    "Qué pasa si entrenamos redes con tamaños de imagen más grande?\n",
    "<img src=\"img/solucion2.png\" width=\"600\">\n",
    "La precisión mejora en todos los casos, por qué?"
   ]
  },
  {
   "cell_type": "markdown",
   "metadata": {},
   "source": [
    "Aplicamos los métodos **CAM** y **Guided grad CAM** a las soluciones con imágenes más grandes\n",
    "<img src=\"img/Xception_448.png\" width=\"1100\">"
   ]
  },
  {
   "cell_type": "markdown",
   "metadata": {},
   "source": [
    "Aplicamos los métodos **CAM** y **Guided grad CAM** a las soluciones con imágenes más grandes\n",
    "<img src=\"img/DenseNet_448.png\" width=\"1100\">"
   ]
  },
  {
   "cell_type": "markdown",
   "metadata": {},
   "source": [
    "Tomamos una imágen que antes era clasificada mal y ahora bien, y le aplicamos los métodos de visualización\n",
    "\n",
    "### DenseNet 224x224\n",
    "<img src=\"img/not_ok.png\" width=\"1000\">\n",
    "\n",
    "### DenseNet 448x448\n",
    "<img src=\"img/red_ok.png\" width=\"1000\">\n",
    "\n",
    "se observa que las lesiones no son detectadas por la red entrenadas con imágenes pequeñas, mientras que si lo son por la red con imágenes de mayor tamaño."
   ]
  },
  {
   "cell_type": "code",
   "execution_count": null,
   "metadata": {},
   "outputs": [],
   "source": []
  }
 ],
 "metadata": {
  "celltoolbar": "Slideshow",
  "kernelspec": {
   "display_name": "Python 3",
   "language": "python",
   "name": "python3"
  },
  "language_info": {
   "codemirror_mode": {
    "name": "ipython",
    "version": 3
   },
   "file_extension": ".py",
   "mimetype": "text/x-python",
   "name": "python",
   "nbconvert_exporter": "python",
   "pygments_lexer": "ipython3",
   "version": "3.7.4"
  }
 },
 "nbformat": 4,
 "nbformat_minor": 4
}
