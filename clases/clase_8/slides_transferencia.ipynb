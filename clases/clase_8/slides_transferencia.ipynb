{
 "cells": [
  {
   "cell_type": "markdown",
   "metadata": {},
   "source": [
    "## Transferencia de aprendizaje \n",
    "Utilizar conceptos de un problema en otro\n",
    "\n",
    "En redes convolucionales, se utilizan los pesos de la parte de extracción características o feature extraction, correspondientes con las capas convolucionales y de pooling.\n",
    "\n",
    "![](img/cnn.jpeg)"
   ]
  },
  {
   "cell_type": "markdown",
   "metadata": {},
   "source": [
    "### Problema a resolver: Clasificación binaria de imágenes de fondo de ojo para detectar retinopatía diabética\n",
    "\n",
    "#### 5 niveles de severidad repartidos en 2 categorías para realizar una clasificación binaria\n",
    "![](images/image1.png)"
   ]
  },
  {
   "cell_type": "markdown",
   "metadata": {},
   "source": [
    "Existen redes preentrenadas en la base de datos **ImageNet**, las cuales pueden ser cargadas desde Keras\n",
    "\n",
    "\n",
    "  \n",
    "![](img/imagenet.jpeg)\n",
    "<img src=\"img/networks.png\" width=\"700\">"
   ]
  },
  {
   "cell_type": "markdown",
   "metadata": {},
   "source": [
    "La base de datos usada es la de **Kaggle: Diabetic retinopathy detection**\n",
    "<img src=\"img/histogram.png\" width=\"500\">\n"
   ]
  },
  {
   "cell_type": "markdown",
   "metadata": {},
   "source": [
    "Antes de resolver el problema con todos los niveles de severidad de la enfermedad, resolvemos un problema **más simple**:\n",
    "![](img/image6.png)"
   ]
  },
  {
   "cell_type": "markdown",
   "metadata": {},
   "source": [
    "Y utilizamos métodos más simples primero, como **Random Forest, SVM, MLP y KNN**\n",
    "<img src=\"img/metodos.png\" width=\"300\">\n"
   ]
  },
  {
   "cell_type": "markdown",
   "metadata": {},
   "source": [
    "Como no funcionaron usamos CNN en el problema simple de **solo 2 niveles** para ver si funcionan las redes.\n",
    "Vemos primero las tasas de aprendizajes y la constante de regularización apropiadas\n",
    "<img src=\"img/lr.png\" width=\"700\">\n"
   ]
  },
  {
   "cell_type": "markdown",
   "metadata": {},
   "source": [
    "Luego vemos si los métodos de regularización son necesarios\n",
    "<img src=\"img/regularizacion.png\" width=\"700\">\n"
   ]
  },
  {
   "cell_type": "markdown",
   "metadata": {},
   "source": [
    "Hasta que profundidad entrenar?\n",
    "## Red Inception V3\n",
    "<img src=\"img/arquitectura.png\" width=\"700\">"
   ]
  },
  {
   "cell_type": "markdown",
   "metadata": {},
   "source": [
    "Fine tuning hasta varias profundidades\n",
    "<img src=\"img/profundidad.png\" width=\"700\">"
   ]
  },
  {
   "cell_type": "markdown",
   "metadata": {},
   "source": [
    "Ahora que tenemos idea del valor de todos los hiperparámetros, podemos intentar resolver el problema completo\n",
    "\n",
    "<img src=\"img/image1.png\" width=\"700\">"
   ]
  },
  {
   "cell_type": "markdown",
   "metadata": {},
   "source": [
    "Se obtuvieron las siguiente soluciones con imágenes de 224x224 \n",
    "<img src=\"img/resultados1.png\" width=\"400\">\n"
   ]
  },
  {
   "cell_type": "markdown",
   "metadata": {},
   "source": [
    "Se puede visualizar las regiones de importancia a la hora de clasificar? \n",
    "\n",
    "**Método de mapas de activación de clases**: solo funciona para redes de arquitectura particular\n",
    "<img src=\"img/CAM.png\" width=\"700\">"
   ]
  },
  {
   "cell_type": "markdown",
   "metadata": {},
   "source": [
    "**Método Guided Grad CAM:** Método para arquitecturas más custom y además da pixeles importantes\n",
    "<img src=\"img/Guided_cam.png\" width=\"700\">"
   ]
  },
  {
   "cell_type": "markdown",
   "metadata": {},
   "source": [
    "Se aplicaron los métodos **CAM** y **Guided Grad CAM** a las soluciones obtenidas\n",
    "<img src=\"img/Xception_224.png\" width=\"1100\">\n"
   ]
  },
  {
   "cell_type": "markdown",
   "metadata": {},
   "source": [
    "Se aplicaron los métodos **CAM** y **Guided Grad CAM** a las soluciones obtenidas\n",
    "\n",
    "<img src=\"img/Densenet_224.png\" width=\"1100\">"
   ]
  },
  {
   "cell_type": "markdown",
   "metadata": {},
   "source": [
    "Qué pasa si entrenamos redes con tamaños de imagen más grande?\n",
    "<img src=\"img/solucion2.png\" width=\"600\">\n",
    "La precisión mejora en todos los casos, por qué?"
   ]
  },
  {
   "cell_type": "markdown",
   "metadata": {},
   "source": [
    "Aplicamos los métodos **CAM** y **Guided grad CAM** a las soluciones con imágenes más grandes\n",
    "<img src=\"img/Xception_448.png\" width=\"1100\">"
   ]
  },
  {
   "cell_type": "markdown",
   "metadata": {},
   "source": [
    "Aplicamos los métodos **CAM** y **Guided grad CAM** a las soluciones con imágenes más grandes\n",
    "<img src=\"img/DenseNet_448.png\" width=\"1100\">"
   ]
  },
  {
   "cell_type": "markdown",
   "metadata": {},
   "source": [
    "Tomamos una imágen que antes era clasificada mal y ahora bien, y le aplicamos los métodos de visualización\n",
    "\n",
    "### DenseNet 224x224\n",
    "<img src=\"img/not_ok.png\" width=\"1000\">\n",
    "\n",
    "### DenseNet 448x448\n",
    "<img src=\"img/red_ok.png\" width=\"1000\">\n"
   ]
  },
  {
   "cell_type": "code",
   "execution_count": null,
   "metadata": {},
   "outputs": [],
   "source": []
  }
 ],
 "metadata": {
  "celltoolbar": "Slideshow",
  "kernelspec": {
   "display_name": "Python 3",
   "language": "python",
   "name": "python3"
  },
  "language_info": {
   "codemirror_mode": {
    "name": "ipython",
    "version": 3
   },
   "file_extension": ".py",
   "mimetype": "text/x-python",
   "name": "python",
   "nbconvert_exporter": "python",
   "pygments_lexer": "ipython3",
   "version": "3.7.4"
  }
 },
 "nbformat": 4,
 "nbformat_minor": 2
}
