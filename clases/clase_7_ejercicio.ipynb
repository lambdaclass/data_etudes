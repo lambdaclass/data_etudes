{
 "cells": [
  {
   "cell_type": "markdown",
   "metadata": {},
   "source": [
    "# Clase 7 ejercicio"
   ]
  },
  {
   "cell_type": "markdown",
   "metadata": {},
   "source": [
    "El objetivo de este ejercicio es más abierto que los anteriores. La idea es analizar el registro de llamadas al servicio 311 de la ciudad de Nueva York.\n",
    "\n",
    "El dataset tiene datos de las quejas que llegan al 311. Entre los atributos presentes tenemos:\n",
    "\n",
    "- Fecha de creación\n",
    "- Fecha de cierre\n",
    "- Tipo de queja\n",
    "- Dirección\n",
    "- Barrio\n",
    "- Status\n",
    "- Open Data Channel Type (por que medio se registro la queja)\n",
    "- Latitud y longitud"
   ]
  },
  {
   "cell_type": "code",
   "execution_count": 1,
   "metadata": {},
   "outputs": [],
   "source": [
    "%matplotlib inline\n",
    "%config InlineBackend.figure_format = 'retina'\n",
    "\n",
    "import pandas as pd\n",
    "import seaborn as sns"
   ]
  },
  {
   "cell_type": "code",
   "execution_count": 2,
   "metadata": {},
   "outputs": [],
   "source": [
    "sns.set(rc={'figure.figsize': (12,8)})"
   ]
  },
  {
   "cell_type": "code",
   "execution_count": 8,
   "metadata": {},
   "outputs": [],
   "source": [
    "!cat data/311-complaints.tar.gz.part* > data/311-complaints.tar.gz"
   ]
  },
  {
   "cell_type": "code",
   "execution_count": 9,
   "metadata": {},
   "outputs": [],
   "source": [
    "df = pd.read_csv('data/311-complaints.tar.gz',\n",
    "                 compression='gzip',\n",
    "                 parse_dates=['Created Date', 'Closed Date'],\n",
    "                 dtype={'Incident Zip': 'object'})"
   ]
  },
  {
   "cell_type": "code",
   "execution_count": 10,
   "metadata": {},
   "outputs": [
    {
     "name": "stdout",
     "output_type": "stream",
     "text": [
      "<class 'pandas.core.frame.DataFrame'>\n",
      "RangeIndex: 2293929 entries, 0 to 2293928\n",
      "Data columns (total 16 columns):\n",
      " #   Column                  Dtype         \n",
      "---  ------                  -----         \n",
      " 0   311-complaints.csv      float64       \n",
      " 1   Unique Key              float64       \n",
      " 2   Created Date            datetime64[ns]\n",
      " 3   Closed Date             datetime64[ns]\n",
      " 4   Complaint Type          object        \n",
      " 5   Descriptor              object        \n",
      " 6   Location Type           object        \n",
      " 7   Incident Zip            object        \n",
      " 8   Incident Address        object        \n",
      " 9   City                    object        \n",
      " 10  Status                  object        \n",
      " 11  Resolution Description  object        \n",
      " 12  Borough                 object        \n",
      " 13  Open Data Channel Type  object        \n",
      " 14  Latitude                float64       \n",
      " 15  Longitude               float64       \n",
      "dtypes: datetime64[ns](2), float64(4), object(10)\n",
      "memory usage: 280.0+ MB\n"
     ]
    }
   ],
   "source": [
    "df.info()"
   ]
  },
  {
   "cell_type": "code",
   "execution_count": null,
   "metadata": {},
   "outputs": [],
   "source": []
  }
 ],
 "metadata": {
  "kernelspec": {
   "display_name": "Python 3",
   "language": "python",
   "name": "python3"
  },
  "language_info": {
   "codemirror_mode": {
    "name": "ipython",
    "version": 3
   },
   "file_extension": ".py",
   "mimetype": "text/x-python",
   "name": "python",
   "nbconvert_exporter": "python",
   "pygments_lexer": "ipython3",
   "version": "3.7.6"
  }
 },
 "nbformat": 4,
 "nbformat_minor": 4
}
