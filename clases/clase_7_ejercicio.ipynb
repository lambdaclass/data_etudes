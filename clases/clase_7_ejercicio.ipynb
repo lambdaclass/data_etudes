{
 "cells": [
  {
   "cell_type": "markdown",
   "metadata": {},
   "source": [
    "# Clase 7 ejercicio"
   ]
  },
  {
   "cell_type": "markdown",
   "metadata": {},
   "source": [
    "Fuente https://data.cityofnewyork.us/Social-Services/311-Service-Requests-from-2010-to-Present/erm2-nwe9"
   ]
  },
  {
   "cell_type": "markdown",
   "metadata": {},
   "source": [
    "El objetivo de este ejercicio es más abierto que los anteriores. La idea es analizar el registro de llamadas al servicio 311 de la ciudad de Nueva York.\n",
    "\n",
    "El dataset tiene datos de las quejas que llegan al 311. Entre los atributos presentes tenemos:\n",
    "\n",
    "- Fecha de creación\n",
    "- Fecha de cierre\n",
    "- Tipo de queja\n",
    "- Dirección\n",
    "- Barrio\n",
    "- Status\n",
    "- Open Data Channel Type (por que medio se registro la queja)\n",
    "- Latitud y longitud"
   ]
  },
  {
   "cell_type": "code",
   "execution_count": 2,
   "metadata": {},
   "outputs": [],
   "source": [
    "%matplotlib inline\n",
    "%config InlineBackend.figure_format = 'retina'\n",
    "\n",
    "import pandas as pd\n",
    "import seaborn as sns"
   ]
  },
  {
   "cell_type": "code",
   "execution_count": 3,
   "metadata": {},
   "outputs": [],
   "source": [
    "sns.set(rc={'figure.figsize': (12,8)})"
   ]
  },
  {
   "cell_type": "code",
   "execution_count": 4,
   "metadata": {},
   "outputs": [],
   "source": [
    "!cat data/311-complaints.tar.gz.part* > data/311-complaints.tar.gz"
   ]
  },
  {
   "cell_type": "code",
   "execution_count": 5,
   "metadata": {},
   "outputs": [],
   "source": [
    "df = pd.read_csv('data/311-complaints.tar.gz',\n",
    "                 compression='gzip',\n",
    "                 parse_dates=['Created Date', 'Closed Date'],\n",
    "                 dtype={'Incident Zip': 'object'})"
   ]
  },
  {
   "cell_type": "code",
   "execution_count": 6,
   "metadata": {},
   "outputs": [
    {
     "name": "stdout",
     "output_type": "stream",
     "text": [
      "<class 'pandas.core.frame.DataFrame'>\n",
      "RangeIndex: 2293929 entries, 0 to 2293928\n",
      "Data columns (total 16 columns):\n",
      "311-complaints.csv        float64\n",
      "Unique Key                float64\n",
      "Created Date              datetime64[ns]\n",
      "Closed Date               datetime64[ns]\n",
      "Complaint Type            object\n",
      "Descriptor                object\n",
      "Location Type             object\n",
      "Incident Zip              object\n",
      "Incident Address          object\n",
      "City                      object\n",
      "Status                    object\n",
      "Resolution Description    object\n",
      "Borough                   object\n",
      "Open Data Channel Type    object\n",
      "Latitude                  float64\n",
      "Longitude                 float64\n",
      "dtypes: datetime64[ns](2), float64(4), object(10)\n",
      "memory usage: 280.0+ MB\n"
     ]
    }
   ],
   "source": [
    "df.info()"
   ]
  },
  {
   "cell_type": "code",
   "execution_count": 7,
   "metadata": {},
   "outputs": [
    {
     "data": {
      "text/html": [
       "<div>\n",
       "<style scoped>\n",
       "    .dataframe tbody tr th:only-of-type {\n",
       "        vertical-align: middle;\n",
       "    }\n",
       "\n",
       "    .dataframe tbody tr th {\n",
       "        vertical-align: top;\n",
       "    }\n",
       "\n",
       "    .dataframe thead th {\n",
       "        text-align: right;\n",
       "    }\n",
       "</style>\n",
       "<table border=\"1\" class=\"dataframe\">\n",
       "  <thead>\n",
       "    <tr style=\"text-align: right;\">\n",
       "      <th></th>\n",
       "      <th>311-complaints.csv</th>\n",
       "      <th>Unique Key</th>\n",
       "      <th>Created Date</th>\n",
       "      <th>Closed Date</th>\n",
       "      <th>Complaint Type</th>\n",
       "      <th>Descriptor</th>\n",
       "      <th>Location Type</th>\n",
       "      <th>Incident Zip</th>\n",
       "      <th>Incident Address</th>\n",
       "      <th>City</th>\n",
       "      <th>Status</th>\n",
       "      <th>Resolution Description</th>\n",
       "      <th>Borough</th>\n",
       "      <th>Open Data Channel Type</th>\n",
       "      <th>Latitude</th>\n",
       "      <th>Longitude</th>\n",
       "    </tr>\n",
       "  </thead>\n",
       "  <tbody>\n",
       "    <tr>\n",
       "      <td>0</td>\n",
       "      <td>79332.0</td>\n",
       "      <td>41903960.0</td>\n",
       "      <td>2019-03-08 11:23:00</td>\n",
       "      <td>2019-03-14 00:00:00</td>\n",
       "      <td>Request Large Bulky Item Collection</td>\n",
       "      <td>Request Large Bulky Item Collection</td>\n",
       "      <td>Sidewalk</td>\n",
       "      <td>10036</td>\n",
       "      <td>338 WEST   47 STREET</td>\n",
       "      <td>NEW YORK</td>\n",
       "      <td>Closed</td>\n",
       "      <td>NaN</td>\n",
       "      <td>MANHATTAN</td>\n",
       "      <td>PHONE</td>\n",
       "      <td>40.760905</td>\n",
       "      <td>-73.988676</td>\n",
       "    </tr>\n",
       "    <tr>\n",
       "      <td>1</td>\n",
       "      <td>47581.0</td>\n",
       "      <td>41844953.0</td>\n",
       "      <td>2019-02-27 18:39:00</td>\n",
       "      <td>2019-02-28 12:00:00</td>\n",
       "      <td>Other Enforcement</td>\n",
       "      <td>E6 Commercial Waste Disposal</td>\n",
       "      <td>Sidewalk</td>\n",
       "      <td>10033</td>\n",
       "      <td>547 WEST  180 STREET</td>\n",
       "      <td>NEW YORK</td>\n",
       "      <td>Closed</td>\n",
       "      <td>The Department of Sanitation investigated this...</td>\n",
       "      <td>MANHATTAN</td>\n",
       "      <td>MOBILE</td>\n",
       "      <td>40.848212</td>\n",
       "      <td>-73.933237</td>\n",
       "    </tr>\n",
       "    <tr>\n",
       "      <td>2</td>\n",
       "      <td>67269.0</td>\n",
       "      <td>41882574.0</td>\n",
       "      <td>2019-03-05 02:01:40</td>\n",
       "      <td>2019-03-08 16:12:29</td>\n",
       "      <td>HEAT/HOT WATER</td>\n",
       "      <td>ENTIRE BUILDING</td>\n",
       "      <td>RESIDENTIAL BUILDING</td>\n",
       "      <td>10462</td>\n",
       "      <td>2100 BRONX PARK EAST</td>\n",
       "      <td>BRONX</td>\n",
       "      <td>Closed</td>\n",
       "      <td>The complaint you filed is a duplicate of a co...</td>\n",
       "      <td>BRONX</td>\n",
       "      <td>PHONE</td>\n",
       "      <td>40.853773</td>\n",
       "      <td>-73.869188</td>\n",
       "    </tr>\n",
       "    <tr>\n",
       "      <td>3</td>\n",
       "      <td>36184.0</td>\n",
       "      <td>41824783.0</td>\n",
       "      <td>2019-02-26 15:37:52</td>\n",
       "      <td>2019-02-27 21:15:32</td>\n",
       "      <td>HEAT/HOT WATER</td>\n",
       "      <td>ENTIRE BUILDING</td>\n",
       "      <td>RESIDENTIAL BUILDING</td>\n",
       "      <td>10034</td>\n",
       "      <td>65 SEAMAN AVENUE</td>\n",
       "      <td>NEW YORK</td>\n",
       "      <td>Closed</td>\n",
       "      <td>The Department of Housing Preservation and Dev...</td>\n",
       "      <td>MANHATTAN</td>\n",
       "      <td>ONLINE</td>\n",
       "      <td>40.867912</td>\n",
       "      <td>-73.925512</td>\n",
       "    </tr>\n",
       "    <tr>\n",
       "      <td>4</td>\n",
       "      <td>49216.0</td>\n",
       "      <td>41848154.0</td>\n",
       "      <td>2019-03-01 09:40:39</td>\n",
       "      <td>2019-03-04 02:07:40</td>\n",
       "      <td>HEAT/HOT WATER</td>\n",
       "      <td>APARTMENT ONLY</td>\n",
       "      <td>RESIDENTIAL BUILDING</td>\n",
       "      <td>10468</td>\n",
       "      <td>2461 DAVIDSON AVENUE</td>\n",
       "      <td>BRONX</td>\n",
       "      <td>Closed</td>\n",
       "      <td>The complaint you filed is a duplicate of a co...</td>\n",
       "      <td>BRONX</td>\n",
       "      <td>ONLINE</td>\n",
       "      <td>40.863187</td>\n",
       "      <td>-73.901949</td>\n",
       "    </tr>\n",
       "  </tbody>\n",
       "</table>\n",
       "</div>"
      ],
      "text/plain": [
       "   311-complaints.csv  Unique Key        Created Date         Closed Date  \\\n",
       "0             79332.0  41903960.0 2019-03-08 11:23:00 2019-03-14 00:00:00   \n",
       "1             47581.0  41844953.0 2019-02-27 18:39:00 2019-02-28 12:00:00   \n",
       "2             67269.0  41882574.0 2019-03-05 02:01:40 2019-03-08 16:12:29   \n",
       "3             36184.0  41824783.0 2019-02-26 15:37:52 2019-02-27 21:15:32   \n",
       "4             49216.0  41848154.0 2019-03-01 09:40:39 2019-03-04 02:07:40   \n",
       "\n",
       "                        Complaint Type                           Descriptor  \\\n",
       "0  Request Large Bulky Item Collection  Request Large Bulky Item Collection   \n",
       "1                    Other Enforcement         E6 Commercial Waste Disposal   \n",
       "2                       HEAT/HOT WATER                      ENTIRE BUILDING   \n",
       "3                       HEAT/HOT WATER                      ENTIRE BUILDING   \n",
       "4                       HEAT/HOT WATER                       APARTMENT ONLY   \n",
       "\n",
       "          Location Type Incident Zip      Incident Address      City  Status  \\\n",
       "0              Sidewalk        10036  338 WEST   47 STREET  NEW YORK  Closed   \n",
       "1              Sidewalk        10033  547 WEST  180 STREET  NEW YORK  Closed   \n",
       "2  RESIDENTIAL BUILDING        10462  2100 BRONX PARK EAST     BRONX  Closed   \n",
       "3  RESIDENTIAL BUILDING        10034      65 SEAMAN AVENUE  NEW YORK  Closed   \n",
       "4  RESIDENTIAL BUILDING        10468  2461 DAVIDSON AVENUE     BRONX  Closed   \n",
       "\n",
       "                              Resolution Description    Borough  \\\n",
       "0                                                NaN  MANHATTAN   \n",
       "1  The Department of Sanitation investigated this...  MANHATTAN   \n",
       "2  The complaint you filed is a duplicate of a co...      BRONX   \n",
       "3  The Department of Housing Preservation and Dev...  MANHATTAN   \n",
       "4  The complaint you filed is a duplicate of a co...      BRONX   \n",
       "\n",
       "  Open Data Channel Type   Latitude  Longitude  \n",
       "0                  PHONE  40.760905 -73.988676  \n",
       "1                 MOBILE  40.848212 -73.933237  \n",
       "2                  PHONE  40.853773 -73.869188  \n",
       "3                 ONLINE  40.867912 -73.925512  \n",
       "4                 ONLINE  40.863187 -73.901949  "
      ]
     },
     "execution_count": 7,
     "metadata": {},
     "output_type": "execute_result"
    }
   ],
   "source": [
    "df.head()"
   ]
  },
  {
   "cell_type": "markdown",
   "metadata": {},
   "source": [
    "En que barrios se resuelven más rápido las quejas?\n",
    "\n",
    "Tomando en cuenta solo quejas con una duración de hasta 10 días, graficar un mapa cuyo color represente tiempo de duración de la queja. Observa algún patrón? Para simplificar, hacer un histograma de la variable Complaint Type y dropear las filas cuyo Complaint Type se repita menos de 25k de veces."
   ]
  },
  {
   "cell_type": "markdown",
   "metadata": {},
   "source": [
    "Queremos predecir el tipo de queja de alguien que llama. Para ello se propone entrenar un clasificador. Hay algún/as feature/s que se puedan obtener de los datos? \n",
    "\n",
    "Hint: inciso anterior."
   ]
  },
  {
   "cell_type": "markdown",
   "metadata": {},
   "source": [
    "Qué columnas cree que serían poco relevantes para el clasificador?"
   ]
  },
  {
   "cell_type": "markdown",
   "metadata": {},
   "source": [
    "Se propone por lo tanto dropear las columnas de ['311-complaints.csv', 'Unique Key','Created Date', 'Close Date', 'Descriptor', 'Incident Zip', 'Incident Address', 'Resolution Description', 'Open Data Channel Type'] y utilizar las columnas restantes y cualquier feature propuesta."
   ]
  },
  {
   "cell_type": "code",
   "execution_count": null,
   "metadata": {},
   "outputs": [],
   "source": []
  }
 ],
 "metadata": {
  "kernelspec": {
   "display_name": "Python 3",
   "language": "python",
   "name": "python3"
  },
  "language_info": {
   "codemirror_mode": {
    "name": "ipython",
    "version": 3
   },
   "file_extension": ".py",
   "mimetype": "text/x-python",
   "name": "python",
   "nbconvert_exporter": "python",
   "pygments_lexer": "ipython3",
   "version": "3.7.5"
  }
 },
 "nbformat": 4,
 "nbformat_minor": 4
}
