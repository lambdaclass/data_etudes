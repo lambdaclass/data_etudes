{
 "cells": [
  {
   "cell_type": "markdown",
   "metadata": {},
   "source": [
    "# Teorema de Bayes"
   ]
  },
  {
   "cell_type": "markdown",
   "metadata": {},
   "source": [
    "Probabilidad condicional: Probabilidad que ocurra un evento dado que otro ocurrió.<img src=\"interseccion_conjuntos.png\" alt=\"Drawing\" style=\"width: 300px;\"/>"
   ]
  },
  {
   "cell_type": "markdown",
   "metadata": {},
   "source": [
    "La probabilidad condicional se denota como: $P(A|B)$ y se lee probabilidad del evento $A$ dado el evento $B$"
   ]
  },
  {
   "cell_type": "markdown",
   "metadata": {},
   "source": [
    "Teorema de Bayes:\n",
    "    $$P(A|B)=\\frac{P(B|A)P(A)}{P(B)}$$"
   ]
  },
  {
   "cell_type": "markdown",
   "metadata": {},
   "source": [
    "Expresa la probabilidad condicional $P(A|B)$, en términos de la probabilidad de la intersección de los eventos y de las probabilidades de cada evento por separado."
   ]
  },
  {
   "cell_type": "markdown",
   "metadata": {},
   "source": [
    "Ejemplo: Se que un test de coronavirus tiene un 90% sensitividad and 95% especificidad y me dio positivo, cual es la probabilidad que tenga coronavirus?\n",
    "Usando Bayes: $$P(\\text{Tengo Corona y me dio positivo}) = \\frac{P(\\text{Me de positivo y tenga corona})P(\\text{Tenga Corona})}{P(\\text{Me de positivo})}$$"
   ]
  },
  {
   "cell_type": "markdown",
   "metadata": {},
   "source": [
    "Calculamos las probabilidades:\n",
    "    $$P(\\text{Me de positivo y tenga corona}) = 0.9\\text{ (sensitividad del test)}$$\n",
    " "
   ]
  },
  {
   "cell_type": "markdown",
   "metadata": {},
   "source": [
    "   $$P(\\text{Tenga Corona}) = 0.05 (\\text{  ej 5% de la población)}$$\n"
   ]
  },
  {
   "cell_type": "markdown",
   "metadata": {},
   "source": [
    "$$ P(\\text{Me de positivo}) = P(\\text{Me de positivo|Tenga corona})*P(\\text{Tenga corona}) + P(\\text{Me de positivo|No tenga corona})*P(\\text{No tenga corona})$$"
   ]
  },
  {
   "cell_type": "markdown",
   "metadata": {},
   "source": [
    "$$P(\\text{Me de positivo}) = 0.9*0.05+0.05*(1-0.05)=0.0925$$"
   ]
  },
  {
   "cell_type": "markdown",
   "metadata": {},
   "source": [
    "$$P(\\text{Tengo Corona|Me dio positivo})=\\frac{0.9*0.05}{0.0925} = 0.4864$$\n"
   ]
  },
  {
   "cell_type": "markdown",
   "metadata": {},
   "source": [
    "Ejercicio: calcular de los que dieron negativos, cuantos realmente no tenían."
   ]
  },
  {
   "cell_type": "markdown",
   "metadata": {},
   "source": [
    "Casos de uso: Estimación de parameter, testeo de hipótesis, cálculo de intervalos de confianza, cualquier tipo de inferencia bayesiana, etc."
   ]
  },
  {
   "cell_type": "markdown",
   "metadata": {},
   "source": [
    "## Divergencia de Kullback–Leibler o KL-Divergence"
   ]
  },
  {
   "cell_type": "markdown",
   "metadata": {},
   "source": [
    "Se define como: $$D_{KL}=\\sum_{x \\in X} P(x)log( \\frac{P(x)}{Q(x)})$$"
   ]
  },
  {
   "cell_type": "markdown",
   "metadata": {},
   "source": [
    "- Da una noción de similaridad entre distribuciones de probabilidades"
   ]
  },
  {
   "cell_type": "markdown",
   "metadata": {},
   "source": [
    "- No es una métrica ya que no cumple la desigualdad triangular, por lo tanto siempre conviene calcularla relativa a otra distribución"
   ]
  },
  {
   "cell_type": "markdown",
   "metadata": {},
   "source": [
    "- Se relaciona con el campo de teoría de información: Dicha cantidad equivale a la información mutua de P respecto Q, es decir, cuanta información de la distribución de probabilidad P hay en la distribución de Q"
   ]
  },
  {
   "cell_type": "markdown",
   "metadata": {},
   "source": [
    "- El inconveniente de este cálculo es que generalmente no se conocen las distribuciones de probabilidades de las variables y siempre esta la cuestión de: mi histograma se aproxima lo suficiente a mi distribución real?"
   ]
  },
  {
   "cell_type": "code",
   "execution_count": null,
   "metadata": {},
   "outputs": [],
   "source": []
  },
  {
   "cell_type": "markdown",
   "metadata": {},
   "source": [
    "## [Pymc3: Probabilistic Programming in Python](https://docs.pymc.io/)"
   ]
  },
  {
   "cell_type": "markdown",
   "metadata": {},
   "source": [
    "- Tiene distribuciones de probabilidades predefinidas \n",
    "- Permite hacer cálculos de probabilidades posterior de a priori a partir de datos"
   ]
  },
  {
   "cell_type": "markdown",
   "metadata": {},
   "source": [
    "Ejemplo: **Autoregresiones Bayesianas**"
   ]
  },
  {
   "cell_type": "code",
   "execution_count": 40,
   "metadata": {},
   "outputs": [],
   "source": [
    "\n",
    "%config InlineBackend.figure_format = 'retina'\n",
    "\n",
    "import matplotlib.pyplot as plt\n",
    "import numpy as np\n",
    "import pandas as pd\n",
    "import seaborn as sns\n",
    "import pymc3 as pm\n",
    "\n",
    "\n",
    "sns.set(rc={'figure.figsize': (12,8)})"
   ]
  },
  {
   "cell_type": "code",
   "execution_count": null,
   "metadata": {},
   "outputs": [],
   "source": [
    "sigma = 1.0\n",
    "\n",
    "with pm.Model() as ar1:\n",
    "    phi1 = pm.Normal('phi_1', mu=0, sigma=sigma)\n",
    "    data = pm.AR('p', phi1, observed=df['Cierre'])\n",
    "    trace = pm.sample(10000, tune=4000)\n",
    "    map_ar1 = pm.find_MAP()\n",
    "\n",
    "pm.traceplot(trace);"
   ]
  }
 ],
 "metadata": {
  "kernelspec": {
   "display_name": "Python 3",
   "language": "python",
   "name": "python3"
  },
  "language_info": {
   "codemirror_mode": {
    "name": "ipython",
    "version": 3
   },
   "file_extension": ".py",
   "mimetype": "text/x-python",
   "name": "python",
   "nbconvert_exporter": "python",
   "pygments_lexer": "ipython3",
   "version": "3.7.4"
  }
 },
 "nbformat": 4,
 "nbformat_minor": 2
}
