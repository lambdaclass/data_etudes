{
 "cells": [
  {
   "cell_type": "markdown",
   "metadata": {},
   "source": [
    "# Ejercicio: Iris Dataset"
   ]
  },
  {
   "cell_type": "markdown",
   "metadata": {},
   "source": [
    "1\\.  Pandas tiene distintos datasets en cargados y uno de ellos es Iris dataset.\n",
    "El dataset se compone de 150 entradas, cada una con 5 variables: 4 atributos del [sépalo](https://es.wikipedia.org/wiki/S%C3%A9palo) y la especie de la planta: sepal length, sepal width, petal length, petal width y species."
   ]
  },
  {
   "cell_type": "markdown",
   "metadata": {},
   "source": [
    "a. Explorar esta base de datos. Realizar gráficos tomandode a 2 variables, con un color distinto para cada especie, es decir graficar de a pares las varibles de length y width, discriminando por especie obteniendo gráficos como se muestran en la figura (por simplicidad hacer cada grafico por separado)\n",
    "\n",
    "<img src=\"img/iris.png\" alt=\"Drawing\" style=\"width: 600px;\"/>"
   ]
  },
  {
   "cell_type": "markdown",
   "metadata": {},
   "source": [
    "hints: usar la propiedad [groupby( )](https://pandas.pydata.org/pandas-docs/stable/reference/api/pandas.DataFrame.groupby.html) de pandas, usar la propiedad [plot( )](https://pandas.pydata.org/pandas-docs/version/0.23.4/generated/pandas.DataFrame.plot.html) de pandas para graficar y notar que se superponen los graficos si los comandos plot( ) se encuentran en la misma celda"
   ]
  },
  {
   "cell_type": "markdown",
   "metadata": {},
   "source": [
    "b. Luego, de los gráficos donde se observa mayor separación de los datos, calcular para cada especie la media y varianza de cada propiedad. Graficar la media y la varianza junto con los datos (al graficar centrar la varianza en el valor de la media)"
   ]
  },
  {
   "cell_type": "markdown",
   "metadata": {},
   "source": [
    "c. Realizar un histograma de para cada una de las 4 variables y cambiar el numero de bins o intervalos elegidos \n"
   ]
  },
  {
   "cell_type": "markdown",
   "metadata": {},
   "source": [
    "hint: para el histograma se puede usar la propiedad [plot.hist( )](https://pandas.pydata.org/pandas-docs/stable/reference/api/pandas.DataFrame.plot.hist.html)"
   ]
  }
 ],
 "metadata": {
  "kernelspec": {
   "display_name": "Python 3",
   "language": "python",
   "name": "python3"
  },
  "language_info": {
   "codemirror_mode": {
    "name": "ipython",
    "version": 3
   },
   "file_extension": ".py",
   "mimetype": "text/x-python",
   "name": "python",
   "nbconvert_exporter": "python",
   "pygments_lexer": "ipython3",
   "version": "3.7.5"
  }
 },
 "nbformat": 4,
 "nbformat_minor": 4
}
